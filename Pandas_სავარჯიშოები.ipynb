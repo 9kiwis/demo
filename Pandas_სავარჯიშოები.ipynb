{
  "nbformat": 4,
  "nbformat_minor": 0,
  "metadata": {
    "colab": {
      "provenance": [],
      "include_colab_link": true
    },
    "kernelspec": {
      "name": "python3",
      "display_name": "Python 3"
    },
    "language_info": {
      "name": "python"
    }
  },
  "cells": [
    {
      "cell_type": "markdown",
      "metadata": {
        "id": "view-in-github",
        "colab_type": "text"
      },
      "source": [
        "<a href=\"https://colab.research.google.com/github/9kiwis/demo/blob/main/Pandas_%E1%83%A1%E1%83%90%E1%83%95%E1%83%90%E1%83%A0%E1%83%AF%E1%83%98%E1%83%A8%E1%83%9D%E1%83%94%E1%83%91%E1%83%98.ipynb\" target=\"_parent\"><img src=\"https://colab.research.google.com/assets/colab-badge.svg\" alt=\"Open In Colab\"/></a>"
      ]
    },
    {
      "cell_type": "markdown",
      "source": [
        "# Pandas სავარჯიშოები\n",
        "\n"
      ],
      "metadata": {
        "id": "GaiHaWyLEByO"
      }
    },
    {
      "cell_type": "markdown",
      "source": [
        "## სავარჯიშო 1: DataFrame-ის შექმნა და ძირითადი ინფორმაციის მიღება\n",
        "\n",
        "**დავალება**: შექმენით DataFrame სტუდენტების მონაცემებით (სახელი, ასაკი, საშუალო ქულა) და გამოიტანეთ სტატისტიკური ინფორმაცია.\n",
        "\n",
        "**ამოხსნა**:"
      ],
      "metadata": {
        "id": "quKf0Vj99ZEE"
      }
    },
    {
      "cell_type": "code",
      "source": [
        "import pandas as pd\n",
        "import numpy as np\n",
        "\n",
        "# მონაცემების შექმნა\n",
        "data = {\n",
        "    'სახელი': ['ანა', 'გიორგი', 'მარიამი', 'დავითი', 'ნინო'],\n",
        "    'ასაკი': [20, 22, 19, 21, 20],\n",
        "    'საშუალო_ქულა': [85.5, 92.0, 78.5, 91.0, 88.5]\n",
        "}\n",
        "\n",
        "# DataFrame-ის შექმნა\n",
        "df = pd.DataFrame(data)\n",
        "\n",
        "# ძირითადი ინფორმაციის ნახვა\n",
        "print(df.head())\n",
        "print(\"\\nDataFrame-ის ზომა:\", df.shape)\n",
        "print(\"\\nDataFrame-ის მოკლე სტატისტიკა:\")\n",
        "print(df.describe())\n",
        "print(\"\\nDataFrame-ის ტიპები:\")\n",
        "print(df.dtypes)\n",
        "\n",
        "\n"
      ],
      "metadata": {
        "colab": {
          "base_uri": "https://localhost:8080/"
        },
        "id": "Q-zpPMgUiRou",
        "outputId": "d56ae110-9be9-48c5-c952-35f2d4cba7e9"
      },
      "execution_count": null,
      "outputs": [
        {
          "output_type": "stream",
          "name": "stdout",
          "text": [
            "    სახელი  ასაკი  საშუალო_ქულა\n",
            "0      ანა     20          85.5\n",
            "1   გიორგი     22          92.0\n",
            "2  მარიამი     19          78.5\n",
            "3   დავითი     21          91.0\n",
            "4     ნინო     20          88.5\n",
            "\n",
            "DataFrame-ის ზომა: (5, 3)\n",
            "\n",
            "DataFrame-ის მოკლე სტატისტიკა:\n",
            "           ასაკი  საშუალო_ქულა\n",
            "count   5.000000      5.000000\n",
            "mean   20.400000     87.100000\n",
            "std     1.140175      5.424482\n",
            "min    19.000000     78.500000\n",
            "25%    20.000000     85.500000\n",
            "50%    20.000000     88.500000\n",
            "75%    21.000000     91.000000\n",
            "max    22.000000     92.000000\n",
            "\n",
            "DataFrame-ის ტიპები:\n",
            "სახელი           object\n",
            "ასაკი             int64\n",
            "საშუალო_ქულა    float64\n",
            "dtype: object\n"
          ]
        }
      ]
    },
    {
      "cell_type": "markdown",
      "source": [
        "## სავარჯიშო 2: CSV ფაილის წაკითხვა და მონაცემების გაწმენდა\n",
        "\n",
        "**დავალება**: წაიკითხეთ CSV ფაილი, მოახდინეთ გამოტოვებული მნიშვნელობების იდენტიფიცირება და მათი დამუშავება.\n",
        "\n",
        "**ამოხსნა**:"
      ],
      "metadata": {
        "id": "SX5l0Hw9hUEP"
      }
    },
    {
      "cell_type": "code",
      "source": [
        "import pandas as pd\n",
        "\n",
        "data = {\n",
        "    'სახელი': ['ანა', 'გიორგი', 'მარიამი', 'დავითი', 'ნინო'],\n",
        "    'ასაკი': [20, 22, None, 21, 20],\n",
        "    'საშუალო_ქულა': [85.5, 92.0, 78.5, None, 88.5]\n",
        "}\n",
        "df = pd.DataFrame(data)\n",
        "df.to_csv('students.csv')\n",
        "\n",
        "# CSV ფაილის წაკითხვა (მაგალითისთვის)\n",
        "df = pd.read_csv('students.csv')\n",
        "\n",
        "# გამოტოვებული მნიშვნელობების იდენტიფიცირება\n",
        "print(\"გამოტოვებული მნიშვნელობები სვეტების მიხედვით:\")\n",
        "print(df.isnull().sum())\n",
        "\n",
        "# გამოტოვებული მნიშვნელობების შევსება საშუალო მნიშვნელობით\n",
        "df['ასაკი'].fillna(df['ასაკი'].mean(), inplace=True)\n",
        "df['საშუალო_ქულა'].fillna(df['საშუალო_ქულა'].mean(), inplace=True)\n",
        "\n",
        "print(\"\\nმონაცემების წმენდის შემდეგ:\")\n",
        "print(df)\n",
        "\n",
        "\n"
      ],
      "metadata": {
        "colab": {
          "base_uri": "https://localhost:8080/"
        },
        "id": "-vcfgp3hiTjd",
        "outputId": "49433596-10b2-4865-fd61-c9a7ce8f464a"
      },
      "execution_count": null,
      "outputs": [
        {
          "output_type": "stream",
          "name": "stdout",
          "text": [
            "გამოტოვებული მნიშვნელობები სვეტების მიხედვით:\n",
            "Unnamed: 0      0\n",
            "სახელი          0\n",
            "ასაკი           1\n",
            "საშუალო_ქულა    1\n",
            "dtype: int64\n",
            "\n",
            "მონაცემების წმენდის შემდეგ:\n",
            "   Unnamed: 0   სახელი  ასაკი  საშუალო_ქულა\n",
            "0           0      ანა  20.00        85.500\n",
            "1           1   გიორგი  22.00        92.000\n",
            "2           2  მარიამი  20.75        78.500\n",
            "3           3   დავითი  21.00        86.125\n",
            "4           4     ნინო  20.00        88.500\n"
          ]
        },
        {
          "output_type": "stream",
          "name": "stderr",
          "text": [
            "<ipython-input-15-6f77b9879e4f>:19: FutureWarning: A value is trying to be set on a copy of a DataFrame or Series through chained assignment using an inplace method.\n",
            "The behavior will change in pandas 3.0. This inplace method will never work because the intermediate object on which we are setting values always behaves as a copy.\n",
            "\n",
            "For example, when doing 'df[col].method(value, inplace=True)', try using 'df.method({col: value}, inplace=True)' or df[col] = df[col].method(value) instead, to perform the operation inplace on the original object.\n",
            "\n",
            "\n",
            "  df['ასაკი'].fillna(df['ასაკი'].mean(), inplace=True)\n",
            "<ipython-input-15-6f77b9879e4f>:20: FutureWarning: A value is trying to be set on a copy of a DataFrame or Series through chained assignment using an inplace method.\n",
            "The behavior will change in pandas 3.0. This inplace method will never work because the intermediate object on which we are setting values always behaves as a copy.\n",
            "\n",
            "For example, when doing 'df[col].method(value, inplace=True)', try using 'df.method({col: value}, inplace=True)' or df[col] = df[col].method(value) instead, to perform the operation inplace on the original object.\n",
            "\n",
            "\n",
            "  df['საშუალო_ქულა'].fillna(df['საშუალო_ქულა'].mean(), inplace=True)\n"
          ]
        }
      ]
    },
    {
      "cell_type": "markdown",
      "source": [
        "## სავარჯიშო 3: მონაცემების გაფილტვრა პირობების მიხედვით\n",
        "\n",
        "**დავალება**: გაფილტრეთ DataFrame და გამოიტანეთ მხოლოდ ის სტუდენტები, რომელთა ასაკი 20-ზე მეტია და საშუალო ქულა 85-ზე მაღალი.\n",
        "\n",
        "**ამოხსნა**:"
      ],
      "metadata": {
        "id": "213bcVe_hQPS"
      }
    },
    {
      "cell_type": "code",
      "source": [
        "import pandas as pd\n",
        "\n",
        "# მონაცემების შექმნა\n",
        "data = {\n",
        "    'სახელი': ['ანა', 'გიორგი', 'მარიამი', 'დავითი', 'ნინო', 'ლევანი', 'თამარი'],\n",
        "    'ასაკი': [20, 22, 19, 21, 20, 23, 21],\n",
        "    'საშუალო_ქულა': [85.5, 92.0, 78.5, 91.0, 88.5, 84.0, 94.5]\n",
        "}\n",
        "\n",
        "df = pd.DataFrame(data)\n",
        "\n",
        "# გაფილტვრა: ასაკი > 20 და საშუალო_ქულა > 85\n",
        "filtered_df = df[(df['ასაკი'] > 20) & (df['საშუალო_ქულა'] > 85)]\n",
        "\n",
        "print(\"გაფილტრული მონაცემები (ასაკი > 20 და საშუალო_ქულა > 85):\")\n",
        "print(filtered_df)\n",
        "\n",
        "\n"
      ],
      "metadata": {
        "colab": {
          "base_uri": "https://localhost:8080/"
        },
        "id": "Qy0EAol_iVr-",
        "outputId": "8175ae1c-afb7-44c0-926b-83e6ac42eb87"
      },
      "execution_count": null,
      "outputs": [
        {
          "output_type": "stream",
          "name": "stdout",
          "text": [
            "გაფილტრული მონაცემები (ასაკი > 20 და საშუალო_ქულა > 85):\n",
            "   სახელი  ასაკი  საშუალო_ქულა\n",
            "1  გიორგი     22          92.0\n",
            "3  დავითი     21          91.0\n",
            "6  თამარი     21          94.5\n"
          ]
        }
      ]
    },
    {
      "cell_type": "markdown",
      "source": [
        "## სავარჯიშო 4: ინდექსირება და მწკრივების/სვეტების შერჩევა\n",
        "\n",
        "**დავალება**: შეცვალეთ DataFrame-ის ინდექსი სახელის სვეტით, შემდეგ შეარჩიეთ კონკრეტული სვეტები და მწკრივები სხვადასხვა მეთოდით.\n",
        "\n",
        "**ამოხსნა**:"
      ],
      "metadata": {
        "id": "8TQnCzSkhM6t"
      }
    },
    {
      "cell_type": "code",
      "source": [
        "import pandas as pd\n",
        "\n",
        "# მონაცემების შექმნა\n",
        "data = {\n",
        "    'სახელი': ['ანა', 'გიორგი', 'მარიამი', 'დავითი', 'ნინო'],\n",
        "    'ასაკი': [20, 22, 19, 21, 20],\n",
        "    'საშუალო_ქულა': [85.5, 92.0, 78.5, 91.0, 88.5],\n",
        "    'ფაკულტეტი': ['ბიზნესი', 'IT', 'მედიცინა', 'IT', 'ჰუმანიტარული']\n",
        "}\n",
        "\n",
        "df = pd.DataFrame(data)\n",
        "\n",
        "# ინდექსის შეცვლა სახელის სვეტით\n",
        "df_indexed = df.set_index('სახელი')\n",
        "print(\"DataFrame სახელით ინდექსირებული:\")\n",
        "print(df_indexed)\n",
        "\n",
        "# კონკრეტული სვეტების შერჩევა\n",
        "selected_columns = df_indexed[['ასაკი', 'საშუალო_ქულა']]\n",
        "print(\"\\nმხოლოდ ასაკი და საშუალო ქულა:\")\n",
        "print(selected_columns)\n",
        "\n",
        "# კონკრეტული მწკრივების შერჩევა ინდექსის მიხედვით\n",
        "selected_rows = df_indexed.loc[['ანა', 'დავითი']]\n",
        "print(\"\\nანას და დავითის მონაცემები:\")\n",
        "print(selected_rows)\n",
        "\n",
        "# მწკრივების და სვეტების შერჩევა ერთდროულად\n",
        "selected_data = df_indexed.loc[['გიორგი', 'ნინო'], ['ასაკი', 'ფაკულტეტი']]\n",
        "print(\"\\nგიორგისა და ნინოს ასაკი და ფაკულტეტი:\")\n",
        "print(selected_data)\n",
        "\n",
        "\n"
      ],
      "metadata": {
        "colab": {
          "base_uri": "https://localhost:8080/"
        },
        "id": "MyEyxAXRiYmE",
        "outputId": "4fba4416-0580-442f-e0fe-903bea910019"
      },
      "execution_count": null,
      "outputs": [
        {
          "output_type": "stream",
          "name": "stdout",
          "text": [
            "DataFrame სახელით ინდექსირებული:\n",
            "         ასაკი  საშუალო_ქულა     ფაკულტეტი\n",
            "სახელი                                    \n",
            "ანა         20          85.5       ბიზნესი\n",
            "გიორგი      22          92.0            IT\n",
            "მარიამი     19          78.5      მედიცინა\n",
            "დავითი      21          91.0            IT\n",
            "ნინო        20          88.5  ჰუმანიტარული\n",
            "\n",
            "მხოლოდ ასაკი და საშუალო ქულა:\n",
            "         ასაკი  საშუალო_ქულა\n",
            "სახელი                      \n",
            "ანა         20          85.5\n",
            "გიორგი      22          92.0\n",
            "მარიამი     19          78.5\n",
            "დავითი      21          91.0\n",
            "ნინო        20          88.5\n",
            "\n",
            "ანას და დავითის მონაცემები:\n",
            "        ასაკი  საშუალო_ქულა ფაკულტეტი\n",
            "სახელი                               \n",
            "ანა        20          85.5   ბიზნესი\n",
            "დავითი     21          91.0        IT\n",
            "\n",
            "გიორგისა და ნინოს ასაკი და ფაკულტეტი:\n",
            "        ასაკი     ფაკულტეტი\n",
            "სახელი                     \n",
            "გიორგი     22            IT\n",
            "ნინო       20  ჰუმანიტარული\n"
          ]
        }
      ]
    },
    {
      "cell_type": "markdown",
      "source": [
        "## სავარჯიშო 5: ახალი სვეტების შექმნა და მონაცემების გარდაქმნა\n",
        "\n",
        "**დავალება**: შექმენით ახალი სვეტები არსებული მონაცემების საფუძველზე და გარდაქმენით მონაცემები.\n",
        "\n",
        "**ამოხსნა**:"
      ],
      "metadata": {
        "id": "qnhAlU2OhIwr"
      }
    },
    {
      "cell_type": "code",
      "source": [
        "import pandas as pd\n",
        "\n",
        "# მონაცემების შექმნა\n",
        "data = {\n",
        "    'სახელი': ['ანა', 'გიორგი', 'მარიამი', 'დავითი', 'ნინო'],\n",
        "    'ასაკი': [20, 22, 19, 21, 20],\n",
        "    'საშუალო_ქულა': [85.5, 92.0, 78.5, 91.0, 88.5],\n",
        "    'დასწრება': [0.9, 0.85, 0.75, 0.95, 0.88]\n",
        "}\n",
        "\n",
        "df = pd.DataFrame(data)\n",
        "\n",
        "# ახალი სვეტის შექმნა: დაბადების წელი (მიახლოებითი)\n",
        "current_year = 2024\n",
        "df['დაბადების_წელი'] = current_year - df['ასაკი']\n",
        "\n",
        "# ახალი სვეტის შექმნა: საბოლოო ქულა (საშუალო ქულა * 0.8 + დასწრება * 20)\n",
        "df['საბოლოო_ქულა'] = df['საშუალო_ქულა'] * 0.8 + df['დასწრება'] * 20\n",
        "\n",
        "# ახალი სვეტის შექმნა: შეფასება\n",
        "def get_grade(score):\n",
        "    if score >= 91:\n",
        "        return 'A'\n",
        "    elif score >= 81:\n",
        "        return 'B'\n",
        "    elif score >= 71:\n",
        "        return 'C'\n",
        "    elif score >= 61:\n",
        "        return 'D'\n",
        "    else:\n",
        "        return 'F'\n",
        "\n",
        "df['შეფასება'] = df['საბოლოო_ქულა'].apply(get_grade)\n",
        "\n",
        "print(df)\n",
        "\n",
        "\n"
      ],
      "metadata": {
        "colab": {
          "base_uri": "https://localhost:8080/"
        },
        "id": "DjIsZiOOh-l7",
        "outputId": "5ba7f103-cab1-42e5-ab57-0bd58f84790b"
      },
      "execution_count": null,
      "outputs": [
        {
          "output_type": "stream",
          "name": "stdout",
          "text": [
            "    სახელი  ასაკი  საშუალო_ქულა  დასწრება  დაბადების_წელი  საბოლოო_ქულა  \\\n",
            "0      ანა     20          85.5      0.90            2004          86.4   \n",
            "1   გიორგი     22          92.0      0.85            2002          90.6   \n",
            "2  მარიამი     19          78.5      0.75            2005          77.8   \n",
            "3   დავითი     21          91.0      0.95            2003          91.8   \n",
            "4     ნინო     20          88.5      0.88            2004          88.4   \n",
            "\n",
            "  შეფასება  \n",
            "0        B  \n",
            "1        B  \n",
            "2        C  \n",
            "3        A  \n",
            "4        B  \n"
          ]
        }
      ]
    },
    {
      "cell_type": "markdown",
      "source": [
        "## სავარჯიშო 6: მონაცემების დახარისხება და მნიშვნელობათა რანჟირება\n",
        "\n",
        "**დავალება**: დაახარისხეთ DataFrame სხვადასხვა სვეტის მიხედვით და შექმენით რანჟირება.\n",
        "\n",
        "**ამოხსნა**:"
      ],
      "metadata": {
        "id": "_tec_rGnhE5y"
      }
    },
    {
      "cell_type": "code",
      "source": [
        "import pandas as pd\n",
        "\n",
        "# მონაცემების შექმნა\n",
        "data = {\n",
        "    'სახელი': ['ანა', 'გიორგი', 'მარიამი', 'დავითი', 'ნინო', 'ლევანი'],\n",
        "    'ასაკი': [20, 22, 19, 21, 20, 22],\n",
        "    'საშუალო_ქულა': [85.5, 92.0, 78.5, 91.0, 88.5, 92.0],\n",
        "    'ფაკულტეტი': ['ბიზნესი', 'IT', 'მედიცინა', 'IT', 'ჰუმანიტარული', 'ბიზნესი']\n",
        "}\n",
        "\n",
        "df = pd.DataFrame(data)\n",
        "\n",
        "# დახარისხება საშუალო ქულის მიხედვით (კლებადი)\n",
        "sorted_by_score = df.sort_values(by='საშუალო_ქულა', ascending=False)\n",
        "print(\"დახარისხებული საშუალო ქულის მიხედვით (კლებადი):\")\n",
        "print(sorted_by_score)\n",
        "\n",
        "# მრავალი სვეტით დახარისხება (ჯერ ფაკულტეტი, შემდეგ საშუალო ქულა)\n",
        "sorted_multiple = df.sort_values(by=['ფაკულტეტი', 'საშუალო_ქულა'], ascending=[True, False])\n",
        "print(\"\\nდახარისხებული ფაკულტეტით და საშუალო ქულით:\")\n",
        "print(sorted_multiple)\n",
        "\n",
        "# რანგირება საშუალო ქულის მიხედვით\n",
        "df['რანგი'] = df['საშუალო_ქულა'].rank(ascending=False, method='min')\n",
        "print(\"\\nდამატებული რანგირებით:\")\n",
        "print(df)\n",
        "\n",
        "\n"
      ],
      "metadata": {
        "colab": {
          "base_uri": "https://localhost:8080/"
        },
        "id": "LlWbUe9oiD1m",
        "outputId": "ac8458eb-6318-45a7-e6fd-bd725f821283"
      },
      "execution_count": null,
      "outputs": [
        {
          "output_type": "stream",
          "name": "stdout",
          "text": [
            "დახარისხებული საშუალო ქულის მიხედვით (კლებადი):\n",
            "    სახელი  ასაკი  საშუალო_ქულა     ფაკულტეტი\n",
            "1   გიორგი     22          92.0            IT\n",
            "5   ლევანი     22          92.0       ბიზნესი\n",
            "3   დავითი     21          91.0            IT\n",
            "4     ნინო     20          88.5  ჰუმანიტარული\n",
            "0      ანა     20          85.5       ბიზნესი\n",
            "2  მარიამი     19          78.5      მედიცინა\n",
            "\n",
            "დახარისხებული ფაკულტეტით და საშუალო ქულით:\n",
            "    სახელი  ასაკი  საშუალო_ქულა     ფაკულტეტი\n",
            "1   გიორგი     22          92.0            IT\n",
            "3   დავითი     21          91.0            IT\n",
            "5   ლევანი     22          92.0       ბიზნესი\n",
            "0      ანა     20          85.5       ბიზნესი\n",
            "2  მარიამი     19          78.5      მედიცინა\n",
            "4     ნინო     20          88.5  ჰუმანიტარული\n",
            "\n",
            "დამატებული რანგირებით:\n",
            "    სახელი  ასაკი  საშუალო_ქულა     ფაკულტეტი  რანგი\n",
            "0      ანა     20          85.5       ბიზნესი    5.0\n",
            "1   გიორგი     22          92.0            IT    1.0\n",
            "2  მარიამი     19          78.5      მედიცინა    6.0\n",
            "3   დავითი     21          91.0            IT    3.0\n",
            "4     ნინო     20          88.5  ჰუმანიტარული    4.0\n",
            "5   ლევანი     22          92.0       ბიზნესი    1.0\n"
          ]
        }
      ]
    },
    {
      "cell_type": "markdown",
      "source": [
        "## სავარჯიშო 7: მონაცემების გრუპირება და აგრეგირება\n",
        "\n",
        "**დავალება**: დააჯგუფეთ მონაცემები ფაკულტეტის მიხედვით და გამოითვალეთ სხვადასხვა სტატისტიკა.\n",
        "\n",
        "**ამოხსნა**:"
      ],
      "metadata": {
        "id": "3Zhv7QbghAbG"
      }
    },
    {
      "cell_type": "code",
      "source": [
        "import pandas as pd\n",
        "\n",
        "# მონაცემების შექმნა\n",
        "data = {\n",
        "    'სახელი': ['ანა', 'გიორგი', 'მარიამი', 'დავითი', 'ნინო', 'ლევანი', 'თამარი', 'სანდრო'],\n",
        "    'ასაკი': [20, 22, 19, 21, 20, 22, 23, 21],\n",
        "    'საშუალო_ქულა': [85.5, 92.0, 78.5, 91.0, 88.5, 76.0, 94.5, 82.0],\n",
        "    'ფაკულტეტი': ['ბიზნესი', 'IT', 'მედიცინა', 'IT', 'ჰუმანიტარული', 'ბიზნესი', 'მედიცინა', 'ბიზნესი']\n",
        "}\n",
        "\n",
        "df = pd.DataFrame(data)\n",
        "\n",
        "# ფაკულტეტის მიხედვით დაჯგუფება და სტატისტიკის გამოთვლა\n",
        "grouped = df.groupby('ფაკულტეტი').agg({\n",
        "    'ასაკი': ['mean', 'min', 'max', 'count'],\n",
        "    'საშუალო_ქულა': ['mean', 'min', 'max', 'std']\n",
        "})\n",
        "\n",
        "print(\"ფაკულტეტის მიხედვით დაჯგუფებული სტატისტიკა:\")\n",
        "print(grouped)\n",
        "\n",
        "# მარტივი აგრეგაცია: თითოეულ ფაკულტეტზე სტუდენტების რაოდენობა\n",
        "faculty_counts = df['ფაკულტეტი'].value_counts()\n",
        "print(\"\\nსტუდენტების რაოდენობა ფაკულტეტების მიხედვით:\")\n",
        "print(faculty_counts)\n",
        "\n",
        "# საშუალო ქულების გამოთვლა ფაკულტეტების მიხედვით\n",
        "mean_scores_by_faculty = df.groupby('ფაკულტეტი')['საშუალო_ქულა'].mean().sort_values(ascending=False)\n",
        "print(\"\\nსაშუალო ქულები ფაკულტეტების მიხედვით (კლებადი):\")\n",
        "print(mean_scores_by_faculty)\n",
        "\n",
        "\n"
      ],
      "metadata": {
        "colab": {
          "base_uri": "https://localhost:8080/"
        },
        "id": "t9Erq6TSiFom",
        "outputId": "70f9635b-e522-4f0d-9548-95db014eff70"
      },
      "execution_count": null,
      "outputs": [
        {
          "output_type": "stream",
          "name": "stdout",
          "text": [
            "ფაკულტეტის მიხედვით დაჯგუფებული სტატისტიკა:\n",
            "             ასაკი               საშუალო_ქულა                       \n",
            "              mean min max count         mean   min   max        std\n",
            "ფაკულტეტი                                                           \n",
            "IT            21.5  21  22     2    91.500000  91.0  92.0   0.707107\n",
            "ბიზნესი       21.0  20  22     3    81.166667  76.0  85.5   4.804512\n",
            "მედიცინა      21.0  19  23     2    86.500000  78.5  94.5  11.313708\n",
            "ჰუმანიტარული  20.0  20  20     1    88.500000  88.5  88.5        NaN\n",
            "\n",
            "სტუდენტების რაოდენობა ფაკულტეტების მიხედვით:\n",
            "ფაკულტეტი\n",
            "ბიზნესი         3\n",
            "IT              2\n",
            "მედიცინა        2\n",
            "ჰუმანიტარული    1\n",
            "Name: count, dtype: int64\n",
            "\n",
            "საშუალო ქულები ფაკულტეტების მიხედვით (კლებადი):\n",
            "ფაკულტეტი\n",
            "IT              91.500000\n",
            "ჰუმანიტარული    88.500000\n",
            "მედიცინა        86.500000\n",
            "ბიზნესი         81.166667\n",
            "Name: საშუალო_ქულა, dtype: float64\n"
          ]
        }
      ]
    },
    {
      "cell_type": "markdown",
      "source": [
        "## სავარჯიშო 8: მრავალმხრივი აგრეგაცია და pivot_table\n",
        "\n",
        "**დავალება**: გამოიყენეთ pivot_table ფუნქცია მრავალმხრივი აგრეგაციისთვის.\n",
        "\n",
        "**ამოხსნა**:"
      ],
      "metadata": {
        "id": "yQOM4umKg55j"
      }
    },
    {
      "cell_type": "code",
      "source": [
        "import pandas as pd\n",
        "\n",
        "# მონაცემების შექმნა\n",
        "data = {\n",
        "    'სახელი': ['ანა', 'გიორგი', 'მარიამი', 'დავითი', 'ნინო', 'ლევანი', 'თამარი', 'სანდრო'],\n",
        "    'სქესი': ['ქალი', 'კაცი', 'ქალი', 'კაცი', 'ქალი', 'კაცი', 'ქალი', 'კაცი'],\n",
        "    'ასაკი': [20, 22, 19, 21, 20, 22, 23, 21],\n",
        "    'საშუალო_ქულა': [85.5, 92.0, 78.5, 91.0, 88.5, 76.0, 94.5, 82.0],\n",
        "    'ფაკულტეტი': ['ბიზნესი', 'IT', 'მედიცინა', 'IT', 'ჰუმანიტარული', 'ბიზნესი', 'მედიცინა', 'ბიზნესი'],\n",
        "    'კურსი': [2, 3, 1, 3, 2, 3, 4, 2]\n",
        "}\n",
        "\n",
        "df = pd.DataFrame(data)\n",
        "\n",
        "# ფაკულტეტისა და კურსის მიხედვით საშუალო ქულების pivot table\n",
        "pivot1 = pd.pivot_table(df,\n",
        "                       values='საშუალო_ქულა',\n",
        "                       index='ფაკულტეტი',\n",
        "                       columns='კურსი',\n",
        "                       aggfunc='mean')\n",
        "\n",
        "print(\"საშუალო ქულების pivot table ფაკულტეტისა და კურსის მიხედვით:\")\n",
        "print(pivot1)\n",
        "\n",
        "# მრავალი ცვლადისა და ფუნქციის გამოყენება\n",
        "pivot2 = pd.pivot_table(df,\n",
        "                       values=['საშუალო_ქულა', 'ასაკი'],\n",
        "                       index=['ფაკულტეტი', 'სქესი'],\n",
        "                       aggfunc={'საშუალო_ქულა': ['mean', 'std'],\n",
        "                                'ასაკი': ['mean', 'count']})\n",
        "\n",
        "print(\"\\nკომპლექსური pivot table:\")\n",
        "print(pivot2)\n",
        "\n",
        "# მეტი შესაძლებლობა: margins პარამეტრის გამოყენება ჯამური მნიშვნელობებისთვის\n",
        "pivot3 = pd.pivot_table(df,\n",
        "                       values='საშუალო_ქულა',\n",
        "                       index='ფაკულტეტი',\n",
        "                       columns='სქესი',\n",
        "                       aggfunc='mean',\n",
        "                       margins=True,\n",
        "                       margins_name='ჯამი')\n",
        "\n",
        "print(\"\\nფაკულტეტისა და სქესის მიხედვით საშუალო ქულები (ჯამებით):\")\n",
        "print(pivot3)\n",
        "\n",
        "\n"
      ],
      "metadata": {
        "colab": {
          "base_uri": "https://localhost:8080/"
        },
        "id": "gKvsNUqUiH_A",
        "outputId": "cfd70c10-07bf-4616-d0af-38e00f5a88ee"
      },
      "execution_count": null,
      "outputs": [
        {
          "output_type": "stream",
          "name": "stdout",
          "text": [
            "საშუალო ქულების pivot table ფაკულტეტისა და კურსის მიხედვით:\n",
            "კურსი            1      2     3     4\n",
            "ფაკულტეტი                            \n",
            "IT             NaN    NaN  91.5   NaN\n",
            "ბიზნესი        NaN  83.75  76.0   NaN\n",
            "მედიცინა      78.5    NaN   NaN  94.5\n",
            "ჰუმანიტარული   NaN  88.50   NaN   NaN\n",
            "\n",
            "კომპლექსური pivot table:\n",
            "                   ასაკი       საშუალო_ქულა           \n",
            "                   count  mean         mean        std\n",
            "ფაკულტეტი    სქესი                                    \n",
            "IT           კაცი      2  21.5         91.5   0.707107\n",
            "ბიზნესი      კაცი      2  21.5         79.0   4.242641\n",
            "             ქალი      1  20.0         85.5        NaN\n",
            "მედიცინა     ქალი      2  21.0         86.5  11.313708\n",
            "ჰუმანიტარული ქალი      1  20.0         88.5        NaN\n",
            "\n",
            "ფაკულტეტისა და სქესის მიხედვით საშუალო ქულები (ჯამებით):\n",
            "სქესი          კაცი   ქალი       ჯამი\n",
            "ფაკულტეტი                            \n",
            "IT            91.50    NaN  91.500000\n",
            "ბიზნესი       79.00  85.50  81.166667\n",
            "მედიცინა        NaN  86.50  86.500000\n",
            "ჰუმანიტარული    NaN  88.50  88.500000\n",
            "ჯამი          85.25  86.75  86.000000\n"
          ]
        }
      ]
    },
    {
      "cell_type": "markdown",
      "source": [
        "## სავარჯიშო 9: DataFrame-ების გაერთიანება (concatenate)\n",
        "\n",
        "**დავალება**: გააერთიანეთ ორი ან მეტი DataFrame სხვადასხვა მეთოდით.\n",
        "\n",
        "**ამოხსნა**:"
      ],
      "metadata": {
        "id": "2znmOHOWgyt6"
      }
    },
    {
      "cell_type": "code",
      "source": [
        "import pandas as pd\n",
        "\n",
        "# პირველი DataFrame - 2023 წლის მონაცემები\n",
        "df_2023 = pd.DataFrame({\n",
        "    'სახელი': ['ანა', 'გიორგი', 'მარიამი', 'დავითი'],\n",
        "    'ასაკი': [20, 22, 19, 21],\n",
        "    'საშუალო_ქულა': [85.5, 92.0, 78.5, 91.0],\n",
        "    'წელი': ['2023', '2023', '2023', '2023']\n",
        "})\n",
        "\n",
        "# მეორე DataFrame - 2024 წლის მონაცემები\n",
        "df_2024 = pd.DataFrame({\n",
        "    'სახელი': ['ნინო', 'ლევანი', 'თამარი'],\n",
        "    'ასაკი': [20, 22, 23],\n",
        "    'საშუალო_ქულა': [88.5, 76.0, 94.5],\n",
        "    'წელი': ['2024', '2024', '2024']\n",
        "})\n",
        "\n",
        "# მწკრივებით გაერთიანება (ვერტიკალურად)\n",
        "df_combined_rows = pd.concat([df_2023, df_2024], axis=0)\n",
        "print(\"მწკრივებით გაერთიანებული DataFrame-ები:\")\n",
        "print(df_combined_rows)\n",
        "\n",
        "# ინდექსის გადანომვრა\n",
        "df_combined_reset = pd.concat([df_2023, df_2024], axis=0, ignore_index=True)\n",
        "print(\"\\nინდექსის გადანომვრით:\")\n",
        "print(df_combined_reset)\n",
        "\n",
        "# სვეტებით გაერთიანება (ჰორიზონტალურად) - მაგალითისთვის\n",
        "# შევქმნათ ახალი DataFrame-ები სხვა მონაცემებით\n",
        "df_scores = pd.DataFrame({\n",
        "    'სახელი': ['ანა', 'გიორგი', 'მარიამი', 'დავითი', 'ნინო'],\n",
        "    'მათემატიკა': [90, 87, 75, 92, 85],\n",
        "    'ისტორია': [82, 94, 88, 79, 91]\n",
        "})\n",
        "\n",
        "df_grades = pd.DataFrame({\n",
        "    'სახელი': ['ანა', 'გიორგი', 'მარიამი', 'დავითი', 'ნინო'],\n",
        "    'მათემატიკის_შეფასება': ['A', 'B', 'C', 'A', 'B'],\n",
        "    'ისტორიის_შეფასება': ['B', 'A', 'B', 'C', 'A']\n",
        "})\n",
        "\n",
        "# სვეტებით გაერთიანება 'სახელი' სვეტის მიხედვით\n",
        "df_merged = pd.merge(df_scores, df_grades, on='სახელი')\n",
        "print(\"\\nსახელის მიხედვით გაერთიანებული მონაცემები:\")\n",
        "print(df_merged)\n",
        "\n",
        "\n"
      ],
      "metadata": {
        "colab": {
          "base_uri": "https://localhost:8080/"
        },
        "id": "YIcfpavSiKPx",
        "outputId": "beebbdb8-6371-426d-e581-4269c7d3ea56"
      },
      "execution_count": null,
      "outputs": [
        {
          "output_type": "stream",
          "name": "stdout",
          "text": [
            "მწკრივებით გაერთიანებული DataFrame-ები:\n",
            "    სახელი  ასაკი  საშუალო_ქულა  წელი\n",
            "0      ანა     20          85.5  2023\n",
            "1   გიორგი     22          92.0  2023\n",
            "2  მარიამი     19          78.5  2023\n",
            "3   დავითი     21          91.0  2023\n",
            "0     ნინო     20          88.5  2024\n",
            "1   ლევანი     22          76.0  2024\n",
            "2   თამარი     23          94.5  2024\n",
            "\n",
            "ინდექსის გადანომვრით:\n",
            "    სახელი  ასაკი  საშუალო_ქულა  წელი\n",
            "0      ანა     20          85.5  2023\n",
            "1   გიორგი     22          92.0  2023\n",
            "2  მარიამი     19          78.5  2023\n",
            "3   დავითი     21          91.0  2023\n",
            "4     ნინო     20          88.5  2024\n",
            "5   ლევანი     22          76.0  2024\n",
            "6   თამარი     23          94.5  2024\n",
            "\n",
            "სახელის მიხედვით გაერთიანებული მონაცემები:\n",
            "    სახელი  მათემატიკა  ისტორია მათემატიკის_შეფასება ისტორიის_შეფასება\n",
            "0      ანა          90       82                    A                 B\n",
            "1   გიორგი          87       94                    B                 A\n",
            "2  მარიამი          75       88                    C                 B\n",
            "3   დავითი          92       79                    A                 C\n",
            "4     ნინო          85       91                    B                 A\n"
          ]
        }
      ]
    },
    {
      "cell_type": "markdown",
      "source": [
        "## სავარჯიშო 10: DataFrame-ების შეერთება (join/merge)\n",
        "\n",
        "**დავალება**: გამოიყენეთ სხვადასხვა ტიპის join ოპერაციები DataFrame-ების დასაკავშირებლად.\n",
        "\n",
        "**ამოხსნა**:"
      ],
      "metadata": {
        "id": "rIAYxNlbgsvm"
      }
    },
    {
      "cell_type": "code",
      "source": [
        "import pandas as pd\n",
        "\n",
        "# სტუდენტების DataFrame\n",
        "students = pd.DataFrame({\n",
        "    'სტუდენტის_ID': [101, 102, 103, 104, 105],\n",
        "    'სახელი': ['ანა', 'გიორგი', 'მარიამი', 'დავითი', 'ნინო'],\n",
        "    'ფაკულტეტი_ID': [1, 2, 3, 2, 4]\n",
        "})\n",
        "\n",
        "# ფაკულტეტების DataFrame\n",
        "faculties = pd.DataFrame({\n",
        "    'ფაკულტეტი_ID': [1, 2, 3, 5],\n",
        "    'ფაკულტეტი': ['ბიზნესი', 'IT', 'მედიცინა', 'სამართალი']\n",
        "})\n",
        "\n",
        "# ქულების DataFrame\n",
        "scores = pd.DataFrame({\n",
        "    'სტუდენტის_ID': [101, 102, 103, 106, 107],\n",
        "    'საშუალო_ქულა': [85.5, 92.0, 78.5, 91.0, 88.5]\n",
        "})\n",
        "\n",
        "# Inner Join: მხოლოდ ის მწკრივები, რომლებიც ორივეგან გვხვდება\n",
        "inner_join = pd.merge(students, faculties, on='ფაკულტეტი_ID', how='inner')\n",
        "print(\"Inner Join სტუდენტებსა და ფაკულტეტებს შორის:\")\n",
        "print(inner_join)\n",
        "\n",
        "# Left Join: მარცხენა DataFrame-ის ყველა მწკრივი\n",
        "left_join = pd.merge(students, faculties, on='ფაკულტეტი_ID', how='left')\n",
        "print(\"\\nLeft Join:\")\n",
        "print(left_join)\n",
        "\n",
        "# Right Join: მარჯვენა DataFrame-ის ყველა მწკრივი\n",
        "right_join = pd.merge(students, faculties, on='ფაკულტეტი_ID', how='right')\n",
        "print(\"\\nRight Join:\")\n",
        "print(right_join)\n",
        "\n",
        "# Outer Join: ორივე DataFrame-ის ყველა მწკრივი\n",
        "outer_join = pd.merge(students, faculties, on='ფაკულტეტი_ID', how='outer')\n",
        "print(\"\\nOuter Join:\")\n",
        "print(outer_join)\n",
        "\n",
        "# სხვადასხვა სახელის მქონე სვეტებით join\n",
        "students_scores = pd.merge(\n",
        "    students,\n",
        "    scores,\n",
        "    left_on='სტუდენტის_ID',\n",
        "    right_on='სტუდენტის_ID',\n",
        "    how='outer'\n",
        ")\n",
        "print(\"\\nსტუდენტები ქულებით (Outer Join):\")\n",
        "print(students_scores)\n",
        "\n",
        "\n"
      ],
      "metadata": {
        "colab": {
          "base_uri": "https://localhost:8080/"
        },
        "id": "8usUnsHHiL7n",
        "outputId": "0e8381a6-190d-4c81-d3bc-29ada157fbb1"
      },
      "execution_count": null,
      "outputs": [
        {
          "output_type": "stream",
          "name": "stdout",
          "text": [
            "Inner Join სტუდენტებსა და ფაკულტეტებს შორის:\n",
            "   სტუდენტის_ID   სახელი  ფაკულტეტი_ID ფაკულტეტი\n",
            "0           101      ანა             1   ბიზნესი\n",
            "1           102   გიორგი             2        IT\n",
            "2           103  მარიამი             3  მედიცინა\n",
            "3           104   დავითი             2        IT\n",
            "\n",
            "Left Join:\n",
            "   სტუდენტის_ID   სახელი  ფაკულტეტი_ID ფაკულტეტი\n",
            "0           101      ანა             1   ბიზნესი\n",
            "1           102   გიორგი             2        IT\n",
            "2           103  მარიამი             3  მედიცინა\n",
            "3           104   დავითი             2        IT\n",
            "4           105     ნინო             4       NaN\n",
            "\n",
            "Right Join:\n",
            "   სტუდენტის_ID   სახელი  ფაკულტეტი_ID  ფაკულტეტი\n",
            "0         101.0      ანა             1    ბიზნესი\n",
            "1         102.0   გიორგი             2         IT\n",
            "2         104.0   დავითი             2         IT\n",
            "3         103.0  მარიამი             3   მედიცინა\n",
            "4           NaN      NaN             5  სამართალი\n",
            "\n",
            "Outer Join:\n",
            "   სტუდენტის_ID   სახელი  ფაკულტეტი_ID  ფაკულტეტი\n",
            "0         101.0      ანა             1    ბიზნესი\n",
            "1         102.0   გიორგი             2         IT\n",
            "2         104.0   დავითი             2         IT\n",
            "3         103.0  მარიამი             3   მედიცინა\n",
            "4         105.0     ნინო             4        NaN\n",
            "5           NaN      NaN             5  სამართალი\n",
            "\n",
            "სტუდენტები ქულებით (Outer Join):\n",
            "   სტუდენტის_ID   სახელი  ფაკულტეტი_ID  საშუალო_ქულა\n",
            "0           101      ანა           1.0          85.5\n",
            "1           102   გიორგი           2.0          92.0\n",
            "2           103  მარიამი           3.0          78.5\n",
            "3           104   დავითი           2.0           NaN\n",
            "4           105     ნინო           4.0           NaN\n",
            "5           106      NaN           NaN          91.0\n",
            "6           107      NaN           NaN          88.5\n"
          ]
        }
      ]
    },
    {
      "cell_type": "markdown",
      "source": [
        "## სავარჯიშო 11: დროითი მწკრივების დამუშავება\n",
        "\n",
        "**დავალება**: დაამუშავეთ დროითი მწკრივების მონაცემები, შეცვალეთ ინდექსი თარიღით და გამოიყენეთ დროითი მწკრივების ფუნქციები.\n",
        "\n",
        "**ამოხსნა**:"
      ],
      "metadata": {
        "id": "rPTLmSwugm6I"
      }
    },
    {
      "cell_type": "code",
      "source": [
        "import pandas as pd\n",
        "import numpy as np\n",
        "\n",
        "# დროითი მწკრივების მონაცემების შექმნა - მაღაზიის ყოველდღიური გაყიდვები\n",
        "date_range = pd.date_range(start='2023-01-01', end='2023-01-31', freq='D')\n",
        "sales_data = {\n",
        "    'თარიღი': date_range,\n",
        "    'გაყიდვები': np.random.randint(100, 500, size=len(date_range)),\n",
        "    'მომხმარებლები': np.random.randint(20, 100, size=len(date_range))\n",
        "}\n",
        "\n",
        "df = pd.DataFrame(sales_data)\n",
        "\n",
        "# თარიღის ინდექსად შეცვლა\n",
        "df_dated = df.set_index('თარიღი')\n",
        "print(\"დროითი მწკრივების DataFrame:\")\n",
        "print(df_dated.head())\n",
        "\n",
        "# თარიღის ატრიბუტების ექსტრაქცია\n",
        "df_dated['წელი'] = df_dated.index.year\n",
        "df_dated['თვე'] = df_dated.index.month\n",
        "df_dated['დღე'] = df_dated.index.day\n",
        "df_dated['კვირის_დღე'] = df_dated.index.dayofweek  # 0 = ორშაბათი, 6 = კვირა\n",
        "\n",
        "print(\"\\nთარიღის კომპონენტებით:\")\n",
        "print(df_dated.head())\n",
        "\n",
        "# დროითი რესემპლინგი: კვირის საშუალო გაყიდვები\n",
        "weekly_sales = df_dated['გაყიდვები'].resample('W').mean()\n",
        "print(\"\\nკვირის საშუალო გაყიდვები:\")\n",
        "print(weekly_sales)\n",
        "\n",
        "# დროითი წანაცვლება: წინა დღესთან შედარება\n",
        "df_dated['წინა_დღის_გაყიდვები'] = df_dated['გაყიდვები'].shift(1)\n",
        "df_dated['გაყიდვების_ცვლილება'] = df_dated['გაყიდვები'] - df_dated['წინა_დღის_გაყიდვები']\n",
        "\n",
        "print(\"\\nგაყიდვების ცვლილება:\")\n",
        "print(df_dated[['გაყიდვები', 'წინა_დღის_გაყიდვები', 'გაყიდვების_ცვლილება']].head())\n",
        "\n",
        "# მოძრავი საშუალო (rolling window)\n",
        "df_dated['3_დღის_საშუალო'] = df_dated['გაყიდვები'].rolling(window=3).mean()\n",
        "\n",
        "print(\"\\n3 დღის მოძრავი საშუალო:\")\n",
        "print(df_dated[['გაყიდვები', '3_დღის_საშუალო']].head(10))\n",
        "\n",
        "\n"
      ],
      "metadata": {
        "colab": {
          "base_uri": "https://localhost:8080/"
        },
        "id": "SXTm6TkPiNuj",
        "outputId": "2f017977-db7c-462b-a8fe-9ad72273a017"
      },
      "execution_count": null,
      "outputs": [
        {
          "output_type": "stream",
          "name": "stdout",
          "text": [
            "დროითი მწკრივების DataFrame:\n",
            "            გაყიდვები  მომხმარებლები\n",
            "თარიღი                              \n",
            "2023-01-01        399             26\n",
            "2023-01-02        190             46\n",
            "2023-01-03        386             45\n",
            "2023-01-04        211             47\n",
            "2023-01-05        368             50\n",
            "\n",
            "თარიღის კომპონენტებით:\n",
            "            გაყიდვები  მომხმარებლები  წელი  თვე  დღე  კვირის_დღე\n",
            "თარიღი                                                          \n",
            "2023-01-01        399             26  2023    1    1           6\n",
            "2023-01-02        190             46  2023    1    2           0\n",
            "2023-01-03        386             45  2023    1    3           1\n",
            "2023-01-04        211             47  2023    1    4           2\n",
            "2023-01-05        368             50  2023    1    5           3\n",
            "\n",
            "კვირის საშუალო გაყიდვები:\n",
            "თარიღი\n",
            "2023-01-01    399.000000\n",
            "2023-01-08    280.857143\n",
            "2023-01-15    255.857143\n",
            "2023-01-22    233.142857\n",
            "2023-01-29    265.000000\n",
            "2023-02-05    130.500000\n",
            "Freq: W-SUN, Name: გაყიდვები, dtype: float64\n",
            "\n",
            "გაყიდვების ცვლილება:\n",
            "            გაყიდვები  წინა_დღის_გაყიდვები  გაყიდვების_ცვლილება\n",
            "თარიღი                                                         \n",
            "2023-01-01        399                  NaN                  NaN\n",
            "2023-01-02        190                399.0               -209.0\n",
            "2023-01-03        386                190.0                196.0\n",
            "2023-01-04        211                386.0               -175.0\n",
            "2023-01-05        368                211.0                157.0\n",
            "\n",
            "3 დღის მოძრავი საშუალო:\n",
            "            გაყიდვები  3_დღის_საშუალო\n",
            "თარიღი                               \n",
            "2023-01-01        399             NaN\n",
            "2023-01-02        190             NaN\n",
            "2023-01-03        386      325.000000\n",
            "2023-01-04        211      262.333333\n",
            "2023-01-05        368      321.666667\n",
            "2023-01-06        111      230.000000\n",
            "2023-01-07        309      262.666667\n",
            "2023-01-08        391      270.333333\n",
            "2023-01-09        235      311.666667\n",
            "2023-01-10        225      283.666667\n"
          ]
        }
      ]
    },
    {
      "cell_type": "markdown",
      "source": [
        "## სავარჯიშო 12: კომპლექსური მონაცემების ანალიზი\n",
        "\n",
        "**დავალება**: მოახდინეთ კომპლექსური მონაცემების დამუშავება მრავალი ფუნქციის კომბინირებით.\n",
        "\n",
        "**ამოხსნა**:\n"
      ],
      "metadata": {
        "id": "FCEQF7u2ggQ-"
      }
    },
    {
      "cell_type": "code",
      "source": [
        "import pandas as pd\n",
        "import numpy as np\n",
        "\n",
        "# პროდუქტების გაყიდვების მონაცემები\n",
        "data = {\n",
        "    'თარიღი': pd.date_range(start='2023-01-01', periods=100, freq='D'),\n",
        "    'მაღაზია_ID': np.random.choice(['A', 'B', 'C', 'D'], size=100),\n",
        "    'პროდუქტი_ID': np.random.choice(['P1', 'P2', 'P3', 'P4', 'P5'], size=100),\n",
        "    'რაოდენობა': np.random.randint(1, 50, size=100),\n",
        "    'ფასი': np.random.uniform(10, 100, size=100).round(2),\n",
        "    'აქცია': np.random.choice([0, 1], size=100, p=[0.7, 0.3])\n",
        "}\n",
        "\n",
        "# DataFrame-ის შექმნა\n",
        "df = pd.DataFrame(data)\n",
        "\n",
        "# გამოთვლილი სვეტი: ჯამური თანხა\n",
        "df['თანხა'] = df['რაოდენობა'] * df['ფასი']\n",
        "\n",
        "# თარიღის ინდექსად შენახვა\n",
        "df['თვე'] = df['თარიღი'].dt.month\n",
        "df['კვირის_დღე'] = df['თარიღი'].dt.dayofweek\n",
        "\n",
        "# 1. გაყიდვების ჯამები მაღაზიების მიხედვით\n",
        "store_sales = df.groupby('მაღაზია_ID').agg({\n",
        "    'თანხა': 'sum',\n",
        "    'რაოდენობა': 'sum'\n",
        "}).sort_values('თანხა', ascending=False)\n",
        "\n",
        "print(\"გაყიდვები მაღაზიების მიხედვით:\")\n",
        "print(store_sales)\n",
        "\n",
        "# 2. ტოპ პროდუქტები გაყიდვების მიხედვით\n",
        "top_products = df.groupby('პროდუქტი_ID').agg({\n",
        "    'თანხა': 'sum',\n",
        "    'რაოდენობა': 'sum'\n",
        "}).sort_values('თანხა', ascending=False)\n",
        "\n",
        "print(\"\\nტოპ პროდუქტები:\")\n",
        "print(top_products)\n",
        "\n",
        "# 3. მაღაზიების ეფექტურობის ანალიზი\n",
        "store_performance = df.groupby(['მაღაზია_ID', 'თვე']).agg({\n",
        "    'თანხა': 'sum',\n",
        "    'რაოდენობა': 'mean',\n",
        "    'აქცია': 'mean'  # აქციების პროცენტული წილი\n",
        "}).reset_index()\n",
        "\n",
        "print(\"\\nმაღაზიების ეფექტურობა თვეების მიხედვით:\")\n",
        "print(store_performance.head(8))\n",
        "\n",
        "# 4. ტრენდები კვირის დღეების მიხედვით\n",
        "weekday_trend = df.groupby('კვირის_დღე').agg({\n",
        "    'თანხა': ['sum', 'mean'],\n",
        "    'რაოდენობა': ['sum', 'mean']\n",
        "})\n",
        "\n",
        "print(\"\\nგაყიდვები კვირის დღეების მიხედვით:\")\n",
        "print(weekday_trend)\n",
        "\n",
        "# 5. გაფილტვრა და გრუპირების კომბინაცია\n",
        "# მხოლოდ აქციის მქონე პროდუქტები მაღაზიების მიხედვით\n",
        "promo_sales = df[df['აქცია'] == 1].groupby(['მაღაზია_ID', 'პროდუქტი_ID']).agg({\n",
        "    'თანხა': 'sum',\n",
        "    'რაოდენობა': 'sum'\n",
        "}).sort_values(['მაღაზია_ID', 'თანხა'], ascending=[True, False])\n",
        "\n",
        "print(\"\\nაქციური პროდუქტების გაყიდვები მაღაზიების მიხედვით:\")\n",
        "print(promo_sales.head(10))\n",
        "\n",
        "# 6. Pivot table: მაღაზიების გაყიდვები პროდუქტების მიხედვით\n",
        "sales_pivot = pd.pivot_table(df,\n",
        "                            values='თანხა',\n",
        "                            index='მაღაზია_ID',\n",
        "                            columns='პროდუქტი_ID',\n",
        "                            aggfunc='sum',\n",
        "                            fill_value=0)\n",
        "\n",
        "print(\"\\nGაყიდვების pivot table:\")\n",
        "print(sales_pivot)"
      ],
      "metadata": {
        "colab": {
          "base_uri": "https://localhost:8080/"
        },
        "id": "NbN_fnblPg63",
        "outputId": "59db407c-ee61-4d09-cf1d-c5adf35a189d"
      },
      "execution_count": null,
      "outputs": [
        {
          "output_type": "stream",
          "name": "stdout",
          "text": [
            "გაყიდვები მაღაზიების მიხედვით:\n",
            "               თანხა  რაოდენობა\n",
            "მაღაზია_ID                     \n",
            "D           46648.15        847\n",
            "C           33849.39        615\n",
            "A           27744.61        499\n",
            "B           26409.69        506\n",
            "\n",
            "ტოპ პროდუქტები:\n",
            "                თანხა  რაოდენობა\n",
            "პროდუქტი_ID                     \n",
            "P5           30938.39        509\n",
            "P1           28389.77        539\n",
            "P3           27622.38        583\n",
            "P4           24376.95        450\n",
            "P2           23324.35        386\n",
            "\n",
            "მაღაზიების ეფექტურობა თვეების მიხედვით:\n",
            "  მაღაზია_ID  თვე    თანხა  რაოდენობა     აქცია\n",
            "0          A    1  9684.96  19.900000  0.200000\n",
            "1          A    2  8120.65  20.000000  0.571429\n",
            "2          A    3  4202.48  13.000000  0.000000\n",
            "3          A    4  5736.52  27.000000  0.250000\n",
            "4          B    1  4233.11  14.833333  0.333333\n",
            "5          B    2  9283.05  25.833333  0.000000\n",
            "6          B    3  9778.32  32.500000  0.333333\n",
            "7          B    4  3115.21  22.333333  0.333333\n",
            "\n",
            "გაყიდვები კვირის დღეების მიხედვით:\n",
            "               თანხა              რაოდენობა           \n",
            "                 sum         mean       sum       mean\n",
            "კვირის_დღე                                            \n",
            "0           17949.21  1196.614000       362  24.133333\n",
            "1           20582.64  1470.188571       379  27.071429\n",
            "2           16781.05  1198.646429       360  25.714286\n",
            "3           15765.21  1126.086429       240  17.142857\n",
            "4           19241.94  1374.424286       316  22.571429\n",
            "5           25751.84  1839.417143       468  33.428571\n",
            "6           18579.95  1238.663333       342  22.800000\n",
            "\n",
            "აქციური პროდუქტების გაყიდვები მაღაზიების მიხედვით:\n",
            "                          თანხა  რაოდენობა\n",
            "მაღაზია_ID პროდუქტი_ID                    \n",
            "A          P3           3583.94         41\n",
            "           P4            816.53         22\n",
            "           P1            717.36         24\n",
            "           P2            135.50          2\n",
            "B          P1           3833.18         55\n",
            "           P5           1971.42         33\n",
            "           P3            493.56         36\n",
            "           P4            286.44         12\n",
            "C          P4           3761.04         54\n",
            "           P1           2067.30         24\n",
            "\n",
            "Gაყიდვების pivot table:\n",
            "პროდუქტი_ID        P1        P2       P3       P4        P5\n",
            "მაღაზია_ID                                                 \n",
            "A             4487.86   3736.30  7375.93  6280.70   5863.82\n",
            "B            14397.05    863.88  5633.69  3239.09   2275.98\n",
            "C             4276.56   2811.62  6182.34  7351.30  13227.57\n",
            "D             5228.30  15912.55  8430.42  7505.86   9571.02\n"
          ]
        }
      ]
    }
  ]
}