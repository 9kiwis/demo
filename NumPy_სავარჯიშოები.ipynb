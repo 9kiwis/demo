{
  "nbformat": 4,
  "nbformat_minor": 0,
  "metadata": {
    "colab": {
      "provenance": [],
      "include_colab_link": true
    },
    "kernelspec": {
      "name": "python3",
      "display_name": "Python 3"
    },
    "language_info": {
      "name": "python"
    }
  },
  "cells": [
    {
      "cell_type": "markdown",
      "metadata": {
        "id": "view-in-github",
        "colab_type": "text"
      },
      "source": [
        "<a href=\"https://colab.research.google.com/github/9kiwis/demo/blob/main/NumPy_%E1%83%A1%E1%83%90%E1%83%95%E1%83%90%E1%83%A0%E1%83%AF%E1%83%98%E1%83%A8%E1%83%9D%E1%83%94%E1%83%91%E1%83%98.ipynb\" target=\"_parent\"><img src=\"https://colab.research.google.com/assets/colab-badge.svg\" alt=\"Open In Colab\"/></a>"
      ]
    },
    {
      "cell_type": "markdown",
      "source": [
        "# **NumPy სავარჯიშოები**\n",
        "\n",
        "## სავარჯიშო 1: მასივის შექმნა\n",
        "შექმენით 1D მასივი რიცხვებით 0-დან 9-მდე arange() ფუნქციის გამოყენებით."
      ],
      "metadata": {
        "id": "GaiHaWyLEByO"
      }
    },
    {
      "cell_type": "code",
      "source": [
        "import numpy as np\n",
        "\n",
        "arr = np.arange(10)\n",
        "print(arr)"
      ],
      "metadata": {
        "id": "wFuKu0cxOrJS",
        "colab": {
          "base_uri": "https://localhost:8080/"
        },
        "outputId": "08a0c7c3-299b-48a1-e24d-dbf5c669c813"
      },
      "execution_count": 1,
      "outputs": [
        {
          "output_type": "stream",
          "name": "stdout",
          "text": [
            "[0 1 2 3 4 5 6 7 8 9]\n"
          ]
        }
      ]
    },
    {
      "cell_type": "markdown",
      "source": [
        "\n",
        "## სავარჯიშო 2: მასივის ფორმის შეცვლა\n",
        "შექმენით 3x3 მატრიცა მნიშვნელობებით 0-დან 8-მდე reshape() ფუნქციის გამოყენებით."
      ],
      "metadata": {
        "id": "cfw-VVMUOp70"
      }
    },
    {
      "cell_type": "code",
      "source": [
        "arr = np.arange(9).reshape(3,3)\n",
        "print(arr)\n"
      ],
      "metadata": {
        "id": "W4hW6jiuPMeg",
        "colab": {
          "base_uri": "https://localhost:8080/"
        },
        "outputId": "9cfe6912-7582-4db0-d643-13e7161abd3a"
      },
      "execution_count": 2,
      "outputs": [
        {
          "output_type": "stream",
          "name": "stdout",
          "text": [
            "[[0 1 2]\n",
            " [3 4 5]\n",
            " [6 7 8]]\n"
          ]
        }
      ]
    },
    {
      "cell_type": "markdown",
      "source": [
        "## სავარჯიშო 3: მასივის ინდექსირება\n",
        "შექმენით 1D მასივი მნიშვნელობებით 10-დან 19-მდე. ამოიღეთ ყველა კენტი რიცხვი ამ მასივიდან."
      ],
      "metadata": {
        "id": "dLrpFTdLPKDZ"
      }
    },
    {
      "cell_type": "code",
      "source": [
        "arr = np.arange(10,20)\n",
        "კენტი_რიცხვები = arr[arr % 2 == 1]\n",
        "print(კენტი_რიცხვები)"
      ],
      "metadata": {
        "id": "ovWAYiSpPTv5",
        "colab": {
          "base_uri": "https://localhost:8080/"
        },
        "outputId": "41f212d7-c7bc-4396-b0a5-fa07ad092fe3"
      },
      "execution_count": 4,
      "outputs": [
        {
          "output_type": "stream",
          "name": "stdout",
          "text": [
            "[11 13 15 17 19]\n"
          ]
        }
      ]
    },
    {
      "cell_type": "markdown",
      "source": [
        "## სავარჯიშო 4: ლოგიკური ინდექსირება\n",
        "შექმენით 2D მასივი ზომით (3,4), რომელიც შეიცავს შემთხვევით მნიშვნელობებს 0-სა და 1-ს შორის. ჩაანაცვლეთ ყველა მნიშვნელობა, რომელიც 0.5-ზე მეტია, 0-ით.\n"
      ],
      "metadata": {
        "id": "eEQxoKBzPSKd"
      }
    },
    {
      "cell_type": "code",
      "source": [
        "arr = np.random.rand(3,4)\n",
        "print(arr)\n",
        "\n",
        "arr[arr > 0.5] = 0\n",
        "print(arr)"
      ],
      "metadata": {
        "id": "snMSV-J8Pazb",
        "colab": {
          "base_uri": "https://localhost:8080/"
        },
        "outputId": "d056d562-0254-4625-b0be-967804511266"
      },
      "execution_count": 7,
      "outputs": [
        {
          "output_type": "stream",
          "name": "stdout",
          "text": [
            "[[0.83048413 0.59805802 0.9782284  0.92754304]\n",
            " [0.68438154 0.51866191 0.9374974  0.0866327 ]\n",
            " [0.09619305 0.54328488 0.07212566 0.8621922 ]]\n",
            "[[0.         0.         0.         0.        ]\n",
            " [0.         0.         0.         0.0866327 ]\n",
            " [0.09619305 0.         0.07212566 0.        ]]\n"
          ]
        }
      ]
    },
    {
      "cell_type": "markdown",
      "source": [
        "## სავარჯიშო 5: მასივების მათემატიკა\n",
        "შექმენით ორი მასივი ზომით (3, 3) შემთხვევითი მთელი რიცხვებით 1-დან 10-მდე. შეასრულეთ ელემენტებზე დაფუძნებული შეკრება, გამოკლება, გამრავლება და გაყოფა."
      ],
      "metadata": {
        "id": "w9ld6galPZHv"
      }
    },
    {
      "cell_type": "code",
      "source": [
        "a = np.random.randint(1,11,size=(3,3))\n",
        "b = np.random.randint(1,11,size=(3,3))\n",
        "\n",
        "print(\"შეკრება:\\n\", a + b)\n",
        "print(\"გამოკლება:\\n\", a - b)\n",
        "print(\"გამრავლება:\\n\", a * b)\n",
        "print(\"გაყოფა:\\n\", a / b)\n"
      ],
      "metadata": {
        "id": "Ii_RIOWuPgpX",
        "colab": {
          "base_uri": "https://localhost:8080/"
        },
        "outputId": "05bbcb79-a4ca-4ae5-f240-4f7e919e17a9"
      },
      "execution_count": 8,
      "outputs": [
        {
          "output_type": "stream",
          "name": "stdout",
          "text": [
            "შეკრება:\n",
            " [[ 9 15  8]\n",
            " [10 15 11]\n",
            " [14  5 13]]\n",
            "გამოკლება:\n",
            " [[-1 -1 -4]\n",
            " [-6  1  9]\n",
            " [-2  1 -3]]\n",
            "გამრავლება:\n",
            " [[20 56 12]\n",
            " [16 56 10]\n",
            " [48  6 40]]\n",
            "გაყოფა:\n",
            " [[ 0.8         0.875       0.33333333]\n",
            " [ 0.25        1.14285714 10.        ]\n",
            " [ 0.75        1.5         0.625     ]]\n"
          ]
        }
      ]
    },
    {
      "cell_type": "markdown",
      "source": [
        "## სავარჯიშო 6: მასივის სტატისტიკა\n",
        "შექმენით 1D მასივი 20 შემთხვევითი მთელი რიცხვით 1-დან 100-მდე. გამოთვალეთ საშუალო, მედიანა, სტანდარტული გადახრა და დისპერსია."
      ],
      "metadata": {
        "id": "HdHT_G36PfSH"
      }
    },
    {
      "cell_type": "code",
      "source": [
        "arr = np.random.randint(1,101,size=20)\n",
        "\n",
        "print(\"მასივი:\", arr)\n",
        "print(\"საშუალო:\", np.mean(arr))\n",
        "print(\"მედიანა:\", np.median(arr))\n",
        "print(\"სტანდარტული გადახრა:\", np.std(arr))\n",
        "print(\"დისპერსია:\", np.var(arr))\n"
      ],
      "metadata": {
        "id": "uN7G4eTLPn8Z",
        "colab": {
          "base_uri": "https://localhost:8080/"
        },
        "outputId": "edadd880-d9de-4765-be85-8c4ced22aa8c"
      },
      "execution_count": 14,
      "outputs": [
        {
          "output_type": "stream",
          "name": "stdout",
          "text": [
            "მასივი: [21 65 39 78 50 61 27 88 14 69 32 48 16 95 18 12 34 49 14 56]\n",
            "საშუალო: 44.3\n",
            "მედიანა: 43.5\n",
            "სტანდარტული გადახრა: 25.137820112332733\n",
            "დისპერსია: 631.9100000000001\n"
          ]
        }
      ]
    },
    {
      "cell_type": "markdown",
      "source": [
        "## სავარჯიშო 7: მასივის დალაგება\n",
        "შექმენით 2D მასივი ზომით (5,5) შემთხვევითი მთელი რიცხვებით 1-დან 20-მდე. დაალაგეთ მასივი ორივე ღერძის გასწვრივ.\n"
      ],
      "metadata": {
        "id": "fmjSZFpZPmP0"
      }
    },
    {
      "cell_type": "code",
      "source": [
        "arr = np.random.randint(1,21,size=(5,5))\n",
        "print(\"საწყისი მასივი:\\n\", arr)\n",
        "\n",
        "print(\"დალაგებული სტრიქონების მიხედვით:\\n\", np.sort(arr, axis=1))\n",
        "print(\"დალაგებული სვეტების მიხედვით:\\n\", np.sort(arr, axis=0))\n"
      ],
      "metadata": {
        "id": "g2DjoGKDPuZh",
        "colab": {
          "base_uri": "https://localhost:8080/"
        },
        "outputId": "ec2ab044-4c0d-4497-c87c-8bc6388e587a"
      },
      "execution_count": 19,
      "outputs": [
        {
          "output_type": "stream",
          "name": "stdout",
          "text": [
            "საწყისი მასივი:\n",
            " [[11  6 11 17  1]\n",
            " [ 4 14  5 15 12]\n",
            " [ 2  1 16  7 14]\n",
            " [16 20 10  4  5]\n",
            " [ 6 18  2 20 11]]\n",
            "დალაგებული სტრიქონების მიხედვით:\n",
            " [[ 1  6 11 11 17]\n",
            " [ 4  5 12 14 15]\n",
            " [ 1  2  7 14 16]\n",
            " [ 4  5 10 16 20]\n",
            " [ 2  6 11 18 20]]\n",
            "დალაგებული სვეტების მიხედვით:\n",
            " [[ 2  1  2  4  1]\n",
            " [ 4  6  5  7  5]\n",
            " [ 6 14 10 15 11]\n",
            " [11 18 11 17 12]\n",
            " [16 20 16 20 14]]\n"
          ]
        }
      ]
    },
    {
      "cell_type": "markdown",
      "source": [
        "## სავარჯიშო 8: მასივების გაერთიანება\n",
        "შექმენით ორი 2D მასივი ზომით (3,3) და გააერთიანეთ ისინი ვერტიკალურად და ჰორიზონტალურად."
      ],
      "metadata": {
        "id": "2tp72qKVPs4g"
      }
    },
    {
      "cell_type": "code",
      "source": [
        "a = np.arange(3,12).reshape(3,3)\n",
        "b = np.arange(9, 18).reshape(3, 3)\n",
        "\n",
        "print(\"ვერტიკალურად გაერთიანება:\\n\", np.vstack((a, b)))\n",
        "print(\"ჰორიზონტალურად გაერთიანება:\\n\", np.hstack((a, b)))\n"
      ],
      "metadata": {
        "id": "HU3lTFbFP1Fu",
        "colab": {
          "base_uri": "https://localhost:8080/"
        },
        "outputId": "97f1fed0-aca6-4ffe-b80b-03685efc5a65"
      },
      "execution_count": 27,
      "outputs": [
        {
          "output_type": "stream",
          "name": "stdout",
          "text": [
            "ვერტიკალურად გაერთიანება:\n",
            " [[ 3  4  5]\n",
            " [ 6  7  8]\n",
            " [ 9 10 11]\n",
            " [ 9 10 11]\n",
            " [12 13 14]\n",
            " [15 16 17]]\n",
            "ჰორიზონტალურად გაერთიანება:\n",
            " [[ 3  4  5  9 10 11]\n",
            " [ 6  7  8 12 13 14]\n",
            " [ 9 10 11 15 16 17]]\n"
          ]
        }
      ]
    },
    {
      "cell_type": "markdown",
      "source": [
        "## სავარჯიშო 9: ბროდკასტინგი\n",
        "შექმენით 3x4 მატრიცა შემთხვევითი მთელი რიცხვებით 1-დან 10-მდე. დაამატეთ 1D მასივი სიგრძით 4 ამ მატრიცის ყოველ სტრიქონს.\n"
      ],
      "metadata": {
        "id": "eCxLK_0aPzmk"
      }
    },
    {
      "cell_type": "code",
      "source": [
        "მატრიცა = np.random.randint(1,11,size=(3,4))\n",
        "სტრიქონი = np.arange(1,5)\n",
        "\n",
        "შედეგი = მატრიცა + სტრიქონი\n",
        "print(\"საწყისი მატრიცა:\\n\", მატრიცა)\n",
        "print(\"შედეგი ბროდკასტინგის შემდეგ:\\n\", შედეგი)"
      ],
      "metadata": {
        "id": "hQrIwzHGP_oe",
        "colab": {
          "base_uri": "https://localhost:8080/"
        },
        "outputId": "e9e9e713-695d-4f26-c421-11588c1ac506"
      },
      "execution_count": 20,
      "outputs": [
        {
          "output_type": "stream",
          "name": "stdout",
          "text": [
            "საწყისი მატრიცა:\n",
            " [[ 8  8 10  1]\n",
            " [10  9  6  8]\n",
            " [ 9  7  3  6]]\n",
            "შედეგი ბროდკასტინგის შემდეგ:\n",
            " [[ 9 10 13  5]\n",
            " [11 11  9 12]\n",
            " [10  9  6 10]]\n"
          ]
        }
      ]
    },
    {
      "cell_type": "markdown",
      "source": [
        "## სავარჯიშო 10: წრფივი ალგებრა\n",
        "შექმენით ორი 3x3 მატრიცა შემთხვევითი მთელი რიცხვებით 1-დან 10-მდე. გამოთვალეთ მათი სკალარული ნამრავლი, საკუთრივი მნიშვნელობები და საკუთრივი ვექტორები.\n"
      ],
      "metadata": {
        "id": "br5nzTnvP-kV"
      }
    },
    {
      "cell_type": "code",
      "source": [
        "a = np.random.randint(1,11,size=(3,3))\n",
        "b = np.random.randint(1,11,size=(3,3))\n",
        "\n",
        "print(\"მატრიცა A:\\n\", a)\n",
        "print(\"მატრიცა B:\\n\", b)\n",
        "\n",
        "სკალარული_ნამრავლი = np.dot(a,b)\n",
        "print(\"სკალარული ნამრავლი:\\n\", სკალარული_ნამრავლი)\n",
        "\n",
        "საკუთრივი_მნიშვნელობები, საკუთრივი_ვექტორები = np.linalg.eig(a)\n",
        "print(\"A-ს საკუთრივი მნიშვნელობები:\", საკუთრივი_მნიშვნელობები)\n",
        "print(\"A-ს საკუთრივი ვექტორები:\\n\", საკუთრივი_ვექტორები)"
      ],
      "metadata": {
        "id": "0XSxrbgJQJB9",
        "colab": {
          "base_uri": "https://localhost:8080/"
        },
        "outputId": "9e5b7ad6-0779-432e-af70-ead18391061e"
      },
      "execution_count": 30,
      "outputs": [
        {
          "output_type": "stream",
          "name": "stdout",
          "text": [
            "მატრიცა A:\n",
            " [[7 6 1]\n",
            " [8 5 2]\n",
            " [7 7 2]]\n",
            "მატრიცა B:\n",
            " [[ 4  9  8]\n",
            " [ 5 10 10]\n",
            " [ 2  8  3]]\n",
            "სკალარული ნამრავლი:\n",
            " [[ 60 131 119]\n",
            " [ 61 138 120]\n",
            " [ 67 149 132]]\n",
            "A-ს საკუთრივი მნიშვნელობები: [14.59593759  0.88123325 -1.47717085]\n",
            "A-ს საკუთრივი ვექტორები:\n",
            " [[-0.53593267 -0.32179568  0.43881274]\n",
            " [-0.57553804  0.17302114 -0.71146129]\n",
            " [-0.61768288  0.93086585  0.54887723]]\n"
          ]
        }
      ]
    },
    {
      "cell_type": "markdown",
      "source": [
        "## სავარჯიშო 11: მასივის მანიპულაცია\n",
        "შექმენით 1D მასივი 10 შემთხვევითი მთელი რიცხვით 1-დან 100-მდე. იპოვეთ ყველა უნიკალური ელემენტი და მათი რაოდენობა.\n"
      ],
      "metadata": {
        "id": "nydYdojoQHUt"
      }
    },
    {
      "cell_type": "code",
      "source": [
        "arr = np.random.randint(1,101,size=10)\n",
        "უნიკალური_ელემენტები, რაოდენობა = np.unique(arr, return_counts=True)\n",
        "\n",
        "print(\"საწყისი მასივი:\", arr)\n",
        "print(\"უნიკალური ელემენტები:\", უნიკალური_ელემენტები)\n",
        "print(\"რაოდენობა:\", რაოდენობა)"
      ],
      "metadata": {
        "id": "AqLNDcHEOdn-",
        "colab": {
          "base_uri": "https://localhost:8080/"
        },
        "outputId": "e96999b4-ad06-4827-fe5f-c73ff7b38eee"
      },
      "execution_count": 33,
      "outputs": [
        {
          "output_type": "stream",
          "name": "stdout",
          "text": [
            "საწყისი მასივი: [84 30 91 84 89 95 11 62 12 52]\n",
            "უნიკალური ელემენტები: [11 12 30 52 62 84 89 91 95]\n",
            "რაოდენობა: [1 1 1 1 1 2 1 1 1]\n"
          ]
        }
      ]
    },
    {
      "cell_type": "markdown",
      "source": [
        "\n",
        "\n",
        "## სავარჯიშო 12: გაფართოებული ინდექსირება\n",
        "შექმენით 5x5 მატრიცა შემთხვევითი მთელი რიცხვებით 1-დან 25-მდე. ამოიღეთ ამ მატრიცის განაპირა ელემენტები."
      ],
      "metadata": {
        "id": "Z9a3N3mROa4S"
      }
    },
    {
      "cell_type": "code",
      "source": [
        "მატრიცა = np.random.randint(1,26,size=(5,5))\n",
        "print(\"საწყისი მატრიცა:\\n\", მატრიცა)\n",
        "\n",
        "მიჯნა = np.concatenate([\n",
        "    მატრიცა[0],  # ზედა სტრიქონი\n",
        "    მატრიცა[-1],  # ქვედა სტრიქონი\n",
        "    მატრიცა[1:-1, 0],  # პირველი სვეტი (კუთხეების გარდა)\n",
        "    მატრიცა[1:-1, -1]  # ბოლო სვეტი (კუთხეების გარდა)\n",
        "])\n",
        "\n",
        "print(\"განაპირა ელემენტები:\", მიჯნა)"
      ],
      "metadata": {
        "id": "sIOZXkHjQdnM",
        "colab": {
          "base_uri": "https://localhost:8080/"
        },
        "outputId": "4f448673-e583-472f-9fd1-f8803572de45"
      },
      "execution_count": 34,
      "outputs": [
        {
          "output_type": "stream",
          "name": "stdout",
          "text": [
            "საწყისი მატრიცა:\n",
            " [[14  5 16  4 10]\n",
            " [19 25 13 24  5]\n",
            " [16  4  9  7  6]\n",
            " [13 20 17 18 14]\n",
            " [12 20  8  7 16]]\n",
            "განაპირა ელემენტები: [14  5 16  4 10 12 20  8  7 16 19 16 13  5  6 14]\n"
          ]
        }
      ]
    },
    {
      "cell_type": "code",
      "source": [],
      "metadata": {
        "id": "09_25J_wAqEw"
      },
      "execution_count": null,
      "outputs": []
    }
  ]
}