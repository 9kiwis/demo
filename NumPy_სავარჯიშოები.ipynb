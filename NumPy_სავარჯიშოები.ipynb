{
  "nbformat": 4,
  "nbformat_minor": 0,
  "metadata": {
    "colab": {
      "provenance": [],
      "include_colab_link": true
    },
    "kernelspec": {
      "name": "python3",
      "display_name": "Python 3"
    },
    "language_info": {
      "name": "python"
    }
  },
  "cells": [
    {
      "cell_type": "markdown",
      "metadata": {
        "id": "view-in-github",
        "colab_type": "text"
      },
      "source": [
        "<a href=\"https://colab.research.google.com/github/9kiwis/demo/blob/main/NumPy_%E1%83%A1%E1%83%90%E1%83%95%E1%83%90%E1%83%A0%E1%83%AF%E1%83%98%E1%83%A8%E1%83%9D%E1%83%94%E1%83%91%E1%83%98.ipynb\" target=\"_parent\"><img src=\"https://colab.research.google.com/assets/colab-badge.svg\" alt=\"Open In Colab\"/></a>"
      ]
    },
    {
      "cell_type": "markdown",
      "source": [
        "# **NumPy სავარჯიშოები**\n",
        "\n",
        "## სავარჯიშო 1: მასივის შექმნა\n",
        "შექმენით 1D მასივი რიცხვებით 0-დან 9-მდე arange() ფუნქციის გამოყენებით."
      ],
      "metadata": {
        "id": "GaiHaWyLEByO"
      }
    },
    {
      "cell_type": "code",
      "source": [
        "import numpy as np\n",
        "\n",
        "arr =\n",
        "print(arr)"
      ],
      "metadata": {
        "id": "wFuKu0cxOrJS"
      },
      "execution_count": null,
      "outputs": []
    },
    {
      "cell_type": "markdown",
      "source": [
        "\n",
        "## სავარჯიშო 2: მასივის ფორმის შეცვლა\n",
        "შექმენით 3x3 მატრიცა მნიშვნელობებით 0-დან 8-მდე reshape() ფუნქციის გამოყენებით."
      ],
      "metadata": {
        "id": "cfw-VVMUOp70"
      }
    },
    {
      "cell_type": "code",
      "source": [
        "arr =\n",
        "print(arr)\n"
      ],
      "metadata": {
        "id": "W4hW6jiuPMeg"
      },
      "execution_count": null,
      "outputs": []
    },
    {
      "cell_type": "markdown",
      "source": [
        "## სავარჯიშო 3: მასივის ინდექსირება\n",
        "შექმენით 1D მასივი მნიშვნელობებით 10-დან 19-მდე. ამოიღეთ ყველა კენტი რიცხვი ამ მასივიდან."
      ],
      "metadata": {
        "id": "dLrpFTdLPKDZ"
      }
    },
    {
      "cell_type": "code",
      "source": [
        "arr =\n",
        "კენტი_რიცხვები =\n",
        "print(კენტი_რიცხვები)"
      ],
      "metadata": {
        "id": "ovWAYiSpPTv5"
      },
      "execution_count": null,
      "outputs": []
    },
    {
      "cell_type": "markdown",
      "source": [
        "## სავარჯიშო 4: ლოგიკური ინდექსირება\n",
        "შექმენით 2D მასივი ზომით (3,4), რომელიც შეიცავს შემთხვევით მნიშვნელობებს 0-სა და 1-ს შორის. ჩაანაცვლეთ ყველა მნიშვნელობა, რომელიც 0.5-ზე მეტია, 0-ით.\n"
      ],
      "metadata": {
        "id": "eEQxoKBzPSKd"
      }
    },
    {
      "cell_type": "code",
      "source": [
        "arr =\n",
        "\n",
        "print(arr)"
      ],
      "metadata": {
        "id": "snMSV-J8Pazb"
      },
      "execution_count": null,
      "outputs": []
    },
    {
      "cell_type": "markdown",
      "source": [
        "## სავარჯიშო 5: მასივების მათემატიკა\n",
        "შექმენით ორი მასივი ზომით (3, 3) შემთხვევითი მთელი რიცხვებით 1-დან 10-მდე. შეასრულეთ ელემენტებზე დაფუძნებული შეკრება, გამოკლება, გამრავლება და გაყოფა."
      ],
      "metadata": {
        "id": "w9ld6galPZHv"
      }
    },
    {
      "cell_type": "code",
      "source": [
        "a =\n",
        "b =\n",
        "\n",
        "print(\"შეკრება:\\n\", a + b)\n",
        "print(\"გამოკლება:\\n\", a - b)\n",
        "print(\"გამრავლება:\\n\", a * b)\n",
        "print(\"გაყოფა:\\n\", a / b)\n"
      ],
      "metadata": {
        "id": "Ii_RIOWuPgpX"
      },
      "execution_count": null,
      "outputs": []
    },
    {
      "cell_type": "markdown",
      "source": [
        "## სავარჯიშო 6: მასივის სტატისტიკა\n",
        "შექმენით 1D მასივი 20 შემთხვევითი მთელი რიცხვით 1-დან 100-მდე. გამოთვალეთ საშუალო, მედიანა, სტანდარტული გადახრა და დისპერსია."
      ],
      "metadata": {
        "id": "HdHT_G36PfSH"
      }
    },
    {
      "cell_type": "code",
      "source": [
        "arr =\n",
        "\n",
        "print(\"მასივი:\", arr)\n",
        "print(\"საშუალო:\", )\n",
        "print(\"მედიანა:\", )\n",
        "print(\"სტანდარტული გადახრა:\",\n",
        "print(\"დისპერსია:\", )\n"
      ],
      "metadata": {
        "id": "uN7G4eTLPn8Z"
      },
      "execution_count": null,
      "outputs": []
    },
    {
      "cell_type": "markdown",
      "source": [
        "## სავარჯიშო 7: მასივის დალაგება\n",
        "შექმენით 2D მასივი ზომით (5,5) შემთხვევითი მთელი რიცხვებით 1-დან 20-მდე. დაალაგეთ მასივი ორივე ღერძის გასწვრივ.\n"
      ],
      "metadata": {
        "id": "fmjSZFpZPmP0"
      }
    },
    {
      "cell_type": "code",
      "source": [
        "arr =\n",
        "print(\"საწყისი მასივი:\\n\", arr)\n",
        "\n",
        "print(\"დალაგებული სტრიქონების მიხედვით:\\n\", )\n",
        "print(\"დალაგებული სვეტების მიხედვით:\\n\", )\n"
      ],
      "metadata": {
        "id": "g2DjoGKDPuZh"
      },
      "execution_count": null,
      "outputs": []
    },
    {
      "cell_type": "markdown",
      "source": [
        "## სავარჯიშო 8: მასივების გაერთიანება\n",
        "შექმენით ორი 2D მასივი ზომით (3,3) და გააერთიანეთ ისინი ვერტიკალურად და ჰორიზონტალურად."
      ],
      "metadata": {
        "id": "2tp72qKVPs4g"
      }
    },
    {
      "cell_type": "code",
      "source": [
        "a =\n",
        "b = np.arange(9, 18).reshape(3, 3)\n",
        "\n",
        "print(\"ვერტიკალურად გაერთიანება:\\n\", )\n",
        "print(\"ჰორიზონტალურად გაერთიანება:\\n\", )\n"
      ],
      "metadata": {
        "id": "HU3lTFbFP1Fu"
      },
      "execution_count": null,
      "outputs": []
    },
    {
      "cell_type": "markdown",
      "source": [
        "## სავარჯიშო 9: ბროდკასტინგი\n",
        "შექმენით 3x4 მატრიცა შემთხვევითი მთელი რიცხვებით 1-დან 10-მდე. დაამატეთ 1D მასივი სიგრძით 4 ამ მატრიცის ყოველ სტრიქონს.\n"
      ],
      "metadata": {
        "id": "eCxLK_0aPzmk"
      }
    },
    {
      "cell_type": "code",
      "source": [
        "მატრიცა =\n",
        "სტრიქონი =\n",
        "\n",
        "შედეგი = მატრიცა + სტრიქონი\n",
        "print(\"საწყისი მატრიცა:\\n\", მატრიცა)\n",
        "print(\"შედეგი ბროდკასტინგის შემდეგ:\\n\", შედეგი)"
      ],
      "metadata": {
        "id": "hQrIwzHGP_oe"
      },
      "execution_count": null,
      "outputs": []
    },
    {
      "cell_type": "markdown",
      "source": [
        "## სავარჯიშო 10: წრფივი ალგებრა\n",
        "შექმენით ორი 3x3 მატრიცა შემთხვევითი მთელი რიცხვებით 1-დან 10-მდე. გამოთვალეთ მათი სკალარული ნამრავლი, საკუთრივი მნიშვნელობები და საკუთრივი ვექტორები.\n"
      ],
      "metadata": {
        "id": "br5nzTnvP-kV"
      }
    },
    {
      "cell_type": "code",
      "source": [
        "a =\n",
        "b =\n",
        "\n",
        "print(\"მატრიცა A:\\n\", a)\n",
        "print(\"მატრიცა B:\\n\", b)\n",
        "\n",
        "სკალარული_ნამრავლი =\n",
        "print(\"სკალარული ნამრავლი:\\n\", სკალარული_ნამრავლი)\n",
        "\n",
        "საკუთრივი_მნიშვნელობები, საკუთრივი_ვექტორები =\n",
        "print(\"A-ს საკუთრივი მნიშვნელობები:\", საკუთრივი_მნიშვნელობები)\n",
        "print(\"A-ს საკუთრივი ვექტორები:\\n\", საკუთრივი_ვექტორები)"
      ],
      "metadata": {
        "id": "0XSxrbgJQJB9"
      },
      "execution_count": null,
      "outputs": []
    },
    {
      "cell_type": "markdown",
      "source": [
        "## სავარჯიშო 11: მასივის მანიპულაცია\n",
        "შექმენით 1D მასივი 10 შემთხვევითი მთელი რიცხვით 1-დან 100-მდე. იპოვეთ ყველა უნიკალური ელემენტი და მათი რაოდენობა.\n"
      ],
      "metadata": {
        "id": "nydYdojoQHUt"
      }
    },
    {
      "cell_type": "code",
      "source": [
        "arr =\n",
        "უნიკალური_ელემენტები, რაოდენობა =\n",
        "\n",
        "print(\"საწყისი მასივი:\", arr)\n",
        "print(\"უნიკალური ელემენტები:\", უნიკალური_ელემენტები)\n",
        "print(\"რაოდენობა:\", რაოდენობა)"
      ],
      "metadata": {
        "id": "AqLNDcHEOdn-"
      },
      "execution_count": null,
      "outputs": []
    },
    {
      "cell_type": "markdown",
      "source": [
        "\n",
        "\n",
        "## სავარჯიშო 12: გაფართოებული ინდექსირება\n",
        "შექმენით 5x5 მატრიცა შემთხვევითი მთელი რიცხვებით 1-დან 25-მდე. ამოიღეთ ამ მატრიცის განაპირა ელემენტები."
      ],
      "metadata": {
        "id": "Z9a3N3mROa4S"
      }
    },
    {
      "cell_type": "code",
      "source": [
        "მატრიცა =\n",
        "print(\"საწყისი მატრიცა:\\n\", მატრიცა)\n",
        "\n",
        "მიჯნა = np.concatenate([\n",
        "    მატრიცა[0],  # ზედა სტრიქონი\n",
        "    მატრიცა[-1],  # ქვედა სტრიქონი\n",
        "    მატრიცა[1:-1, 0],  # პირველი სვეტი (კუთხეების გარდა)\n",
        "    მატრიცა[1:-1, -1]  # ბოლო სვეტი (კუთხეების გარდა)\n",
        "])\n",
        "\n",
        "print(\"განაპირა ელემენტები:\", მიჯნა)"
      ],
      "metadata": {
        "id": "sIOZXkHjQdnM"
      },
      "execution_count": null,
      "outputs": []
    }
  ]
}